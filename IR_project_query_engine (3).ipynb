{
  "cells": [
    {
      "cell_type": "markdown",
      "metadata": {
        "id": "AwZdEiaD7xrU"
      },
      "source": [
        "#### v1\n"
      ]
    },
    {
      "cell_type": "code",
      "execution_count": 14,
      "metadata": {},
      "outputs": [
        {
          "name": "stdout",
          "output_type": "stream",
          "text": [
            "Requirement already satisfied: pip in c:\\python311\\lib\\site-packages (23.1.2)\n",
            "Collecting pip\n",
            "  Using cached pip-25.0.1-py3-none-any.whl (1.8 MB)\n"
          ]
        },
        {
          "name": "stderr",
          "output_type": "stream",
          "text": [
            "ERROR: To modify pip, please run the following command:\n",
            "C:\\Python311\\python.exe -m pip install --upgrade pip\n",
            "\n",
            "[notice] A new release of pip is available: 23.1.2 -> 25.0.1\n",
            "[notice] To update, run: python.exe -m pip install --upgrade pip\n"
          ]
        }
      ],
      "source": [
        "!pip install --upgrade pip\n"
      ]
    },
    {
      "cell_type": "code",
      "execution_count": null,
      "metadata": {},
      "outputs": [],
      "source": []
    },
    {
      "cell_type": "code",
      "execution_count": 19,
      "metadata": {
        "id": "D_i9oe067xe1"
      },
      "outputs": [
        {
          "name": "stdout",
          "output_type": "stream",
          "text": [
            "Requirement already satisfied: langchain-text-splitters in c:\\python311\\lib\\site-packages (0.3.6)\n",
            "Collecting langchain-community\n",
            "  Using cached langchain_community-0.3.17-py3-none-any.whl.metadata (2.4 kB)\n",
            "Requirement already satisfied: langgraph in c:\\python311\\lib\\site-packages (0.2.73)\n",
            "Requirement already satisfied: langchain-core<1.0.0,>=0.3.34 in c:\\python311\\lib\\site-packages (from langchain-text-splitters) (0.3.35)\n",
            "Collecting langchain<1.0.0,>=0.3.18 (from langchain-community)\n",
            "  Using cached langchain-0.3.18-py3-none-any.whl.metadata (7.8 kB)\n",
            "Requirement already satisfied: SQLAlchemy<3,>=1.4 in c:\\python311\\lib\\site-packages (from langchain-community) (2.0.30)\n",
            "Requirement already satisfied: requests<3,>=2 in c:\\python311\\lib\\site-packages (from langchain-community) (2.32.3)\n",
            "Requirement already satisfied: PyYAML>=5.3 in c:\\python311\\lib\\site-packages (from langchain-community) (6.0.1)\n",
            "Requirement already satisfied: aiohttp<4.0.0,>=3.8.3 in c:\\python311\\lib\\site-packages (from langchain-community) (3.9.5)\n",
            "Requirement already satisfied: tenacity!=8.4.0,<10,>=8.1.0 in c:\\python311\\lib\\site-packages (from langchain-community) (8.3.0)\n",
            "Requirement already satisfied: dataclasses-json<0.7,>=0.5.7 in c:\\python311\\lib\\site-packages (from langchain-community) (0.6.6)\n",
            "Requirement already satisfied: pydantic-settings<3.0.0,>=2.4.0 in c:\\python311\\lib\\site-packages (from langchain-community) (2.7.1)\n",
            "Requirement already satisfied: langsmith<0.4,>=0.1.125 in c:\\python311\\lib\\site-packages (from langchain-community) (0.3.8)\n",
            "Requirement already satisfied: httpx-sse<1.0.0,>=0.4.0 in c:\\python311\\lib\\site-packages (from langchain-community) (0.4.0)\n",
            "Requirement already satisfied: numpy<2,>=1.26.4 in c:\\python311\\lib\\site-packages (from langchain-community) (1.26.4)\n",
            "Requirement already satisfied: langgraph-checkpoint<3.0.0,>=2.0.10 in c:\\python311\\lib\\site-packages (from langgraph) (2.0.15)\n",
            "Requirement already satisfied: langgraph-sdk<0.2.0,>=0.1.42 in c:\\python311\\lib\\site-packages (from langgraph) (0.1.51)\n",
            "Requirement already satisfied: aiosignal>=1.1.2 in c:\\python311\\lib\\site-packages (from aiohttp<4.0.0,>=3.8.3->langchain-community) (1.3.1)\n",
            "Requirement already satisfied: attrs>=17.3.0 in c:\\python311\\lib\\site-packages (from aiohttp<4.0.0,>=3.8.3->langchain-community) (23.2.0)\n",
            "Requirement already satisfied: frozenlist>=1.1.1 in c:\\python311\\lib\\site-packages (from aiohttp<4.0.0,>=3.8.3->langchain-community) (1.4.1)\n",
            "Requirement already satisfied: multidict<7.0,>=4.5 in c:\\python311\\lib\\site-packages (from aiohttp<4.0.0,>=3.8.3->langchain-community) (6.0.5)\n",
            "Requirement already satisfied: yarl<2.0,>=1.0 in c:\\python311\\lib\\site-packages (from aiohttp<4.0.0,>=3.8.3->langchain-community) (1.9.4)\n",
            "Requirement already satisfied: marshmallow<4.0.0,>=3.18.0 in c:\\python311\\lib\\site-packages (from dataclasses-json<0.7,>=0.5.7->langchain-community) (3.21.2)\n",
            "Requirement already satisfied: typing-inspect<1,>=0.4.0 in c:\\python311\\lib\\site-packages (from dataclasses-json<0.7,>=0.5.7->langchain-community) (0.9.0)\n",
            "Requirement already satisfied: pydantic<3.0.0,>=2.7.4 in c:\\python311\\lib\\site-packages (from langchain<1.0.0,>=0.3.18->langchain-community) (2.10.6)\n",
            "Requirement already satisfied: jsonpatch<2.0,>=1.33 in c:\\python311\\lib\\site-packages (from langchain-core<1.0.0,>=0.3.34->langchain-text-splitters) (1.33)\n",
            "Requirement already satisfied: packaging<25,>=23.2 in c:\\python311\\lib\\site-packages (from langchain-core<1.0.0,>=0.3.34->langchain-text-splitters) (23.2)\n",
            "Requirement already satisfied: typing-extensions>=4.7 in c:\\python311\\lib\\site-packages (from langchain-core<1.0.0,>=0.3.34->langchain-text-splitters) (4.12.2)\n",
            "Requirement already satisfied: msgpack<2.0.0,>=1.1.0 in c:\\python311\\lib\\site-packages (from langgraph-checkpoint<3.0.0,>=2.0.10->langgraph) (1.1.0)\n",
            "Requirement already satisfied: httpx>=0.25.2 in c:\\python311\\lib\\site-packages (from langgraph-sdk<0.2.0,>=0.1.42->langgraph) (0.27.0)\n",
            "Requirement already satisfied: orjson>=3.10.1 in c:\\python311\\lib\\site-packages (from langgraph-sdk<0.2.0,>=0.1.42->langgraph) (3.10.3)\n",
            "Requirement already satisfied: requests-toolbelt<2.0.0,>=1.0.0 in c:\\python311\\lib\\site-packages (from langsmith<0.4,>=0.1.125->langchain-community) (1.0.0)\n",
            "Requirement already satisfied: zstandard<0.24.0,>=0.23.0 in c:\\python311\\lib\\site-packages (from langsmith<0.4,>=0.1.125->langchain-community) (0.23.0)\n",
            "Requirement already satisfied: python-dotenv>=0.21.0 in c:\\python311\\lib\\site-packages (from pydantic-settings<3.0.0,>=2.4.0->langchain-community) (1.0.1)\n",
            "Requirement already satisfied: charset-normalizer<4,>=2 in c:\\python311\\lib\\site-packages (from requests<3,>=2->langchain-community) (3.3.2)\n",
            "Requirement already satisfied: idna<4,>=2.5 in c:\\python311\\lib\\site-packages (from requests<3,>=2->langchain-community) (3.7)\n",
            "Requirement already satisfied: urllib3<3,>=1.21.1 in c:\\python311\\lib\\site-packages (from requests<3,>=2->langchain-community) (2.2.1)\n",
            "Requirement already satisfied: certifi>=2017.4.17 in c:\\python311\\lib\\site-packages (from requests<3,>=2->langchain-community) (2024.6.2)\n",
            "Requirement already satisfied: greenlet!=0.4.17 in c:\\python311\\lib\\site-packages (from SQLAlchemy<3,>=1.4->langchain-community) (3.0.3)\n",
            "Requirement already satisfied: anyio in c:\\python311\\lib\\site-packages (from httpx>=0.25.2->langgraph-sdk<0.2.0,>=0.1.42->langgraph) (4.8.0)\n",
            "Requirement already satisfied: httpcore==1.* in c:\\python311\\lib\\site-packages (from httpx>=0.25.2->langgraph-sdk<0.2.0,>=0.1.42->langgraph) (1.0.5)\n",
            "Requirement already satisfied: sniffio in c:\\python311\\lib\\site-packages (from httpx>=0.25.2->langgraph-sdk<0.2.0,>=0.1.42->langgraph) (1.3.1)\n",
            "Requirement already satisfied: h11<0.15,>=0.13 in c:\\python311\\lib\\site-packages (from httpcore==1.*->httpx>=0.25.2->langgraph-sdk<0.2.0,>=0.1.42->langgraph) (0.14.0)\n",
            "Requirement already satisfied: jsonpointer>=1.9 in c:\\python311\\lib\\site-packages (from jsonpatch<2.0,>=1.33->langchain-core<1.0.0,>=0.3.34->langchain-text-splitters) (2.4)\n",
            "Requirement already satisfied: annotated-types>=0.6.0 in c:\\python311\\lib\\site-packages (from pydantic<3.0.0,>=2.7.4->langchain<1.0.0,>=0.3.18->langchain-community) (0.7.0)\n",
            "Requirement already satisfied: pydantic-core==2.27.2 in c:\\python311\\lib\\site-packages (from pydantic<3.0.0,>=2.7.4->langchain<1.0.0,>=0.3.18->langchain-community) (2.27.2)\n",
            "Requirement already satisfied: mypy-extensions>=0.3.0 in c:\\python311\\lib\\site-packages (from typing-inspect<1,>=0.4.0->dataclasses-json<0.7,>=0.5.7->langchain-community) (1.0.0)\n",
            "Using cached langchain_community-0.3.17-py3-none-any.whl (2.5 MB)\n",
            "Using cached langchain-0.3.18-py3-none-any.whl (1.0 MB)\n",
            "Installing collected packages: langchain, langchain-community\n",
            "  Attempting uninstall: langchain\n",
            "    Found existing installation: langchain 0.2.1\n",
            "    Uninstalling langchain-0.2.1:\n",
            "      Successfully uninstalled langchain-0.2.1\n",
            "  Rolling back uninstall of langchain\n",
            "  Moving to c:\\python311\\lib\\site-packages\\langchain-0.2.1.dist-info\\\n",
            "   from C:\\Python311\\Lib\\site-packages\\~angchain-0.2.1.dist-info\n",
            "  Moving to c:\\python311\\lib\\site-packages\\langchain\\\n",
            "   from C:\\Python311\\Lib\\site-packages\\~angchain\n"
          ]
        },
        {
          "name": "stderr",
          "output_type": "stream",
          "text": [
            "WARNING: Ignoring invalid distribution ~ (C:\\Python311\\Lib\\site-packages)\n",
            "WARNING: Ignoring invalid distribution ~-p (C:\\Python311\\Lib\\site-packages)\n",
            "WARNING: Ignoring invalid distribution ~=p (C:\\Python311\\Lib\\site-packages)\n",
            "WARNING: Ignoring invalid distribution ~ip (C:\\Python311\\Lib\\site-packages)\n",
            "WARNING: Ignoring invalid distribution ~~p (C:\\Python311\\Lib\\site-packages)\n",
            "WARNING: Ignoring invalid distribution ~ (C:\\Python311\\Lib\\site-packages)\n",
            "WARNING: Ignoring invalid distribution ~-p (C:\\Python311\\Lib\\site-packages)\n",
            "WARNING: Ignoring invalid distribution ~=p (C:\\Python311\\Lib\\site-packages)\n",
            "WARNING: Ignoring invalid distribution ~ip (C:\\Python311\\Lib\\site-packages)\n",
            "WARNING: Ignoring invalid distribution ~~p (C:\\Python311\\Lib\\site-packages)\n",
            "  WARNING: Failed to write executable - trying to use .deleteme logic\n",
            "ERROR: Could not install packages due to an OSError: [WinError 2] The system cannot find the file specified: 'C:\\\\Python311\\\\Scripts\\\\langchain-server.exe' -> 'C:\\\\Python311\\\\Scripts\\\\langchain-server.exe.deleteme'\n",
            "\n"
          ]
        }
      ],
      "source": [
        "!pip install  langchain-text-splitters langchain-community langgraph"
      ]
    },
    {
      "cell_type": "code",
      "execution_count": 20,
      "metadata": {
        "id": "W3ZQNk9n7upa"
      },
      "outputs": [
        {
          "name": "stdout",
          "output_type": "stream",
          "text": [
            "Note: you may need to restart the kernel to use updated packages.\n"
          ]
        },
        {
          "name": "stderr",
          "output_type": "stream",
          "text": [
            "WARNING: Ignoring invalid distribution ~ (c:\\Python311\\Lib\\site-packages)\n",
            "WARNING: Ignoring invalid distribution ~-p (c:\\Python311\\Lib\\site-packages)\n",
            "WARNING: Ignoring invalid distribution ~=p (c:\\Python311\\Lib\\site-packages)\n",
            "WARNING: Ignoring invalid distribution ~ip (c:\\Python311\\Lib\\site-packages)\n",
            "WARNING: Ignoring invalid distribution ~~p (c:\\Python311\\Lib\\site-packages)\n",
            "WARNING: Ignoring invalid distribution ~ (c:\\Python311\\Lib\\site-packages)\n",
            "WARNING: Ignoring invalid distribution ~-p (c:\\Python311\\Lib\\site-packages)\n",
            "WARNING: Ignoring invalid distribution ~=p (c:\\Python311\\Lib\\site-packages)\n",
            "WARNING: Ignoring invalid distribution ~ip (c:\\Python311\\Lib\\site-packages)\n",
            "WARNING: Ignoring invalid distribution ~~p (c:\\Python311\\Lib\\site-packages)\n",
            "WARNING: Ignoring invalid distribution ~ (c:\\Python311\\Lib\\site-packages)\n",
            "WARNING: Ignoring invalid distribution ~-p (c:\\Python311\\Lib\\site-packages)\n",
            "WARNING: Ignoring invalid distribution ~=p (c:\\Python311\\Lib\\site-packages)\n",
            "WARNING: Ignoring invalid distribution ~ip (c:\\Python311\\Lib\\site-packages)\n",
            "WARNING: Ignoring invalid distribution ~~p (c:\\Python311\\Lib\\site-packages)\n"
          ]
        }
      ],
      "source": [
        "pip install -qU langchain-groq"
      ]
    },
    {
      "cell_type": "code",
      "execution_count": 21,
      "metadata": {
        "id": "2pcJ7rm88AMV"
      },
      "outputs": [
        {
          "name": "stdout",
          "output_type": "stream",
          "text": [
            "Note: you may need to restart the kernel to use updated packages.\n"
          ]
        },
        {
          "name": "stderr",
          "output_type": "stream",
          "text": [
            "WARNING: Ignoring invalid distribution ~ (c:\\Python311\\Lib\\site-packages)\n",
            "WARNING: Ignoring invalid distribution ~-p (c:\\Python311\\Lib\\site-packages)\n",
            "WARNING: Ignoring invalid distribution ~=p (c:\\Python311\\Lib\\site-packages)\n",
            "WARNING: Ignoring invalid distribution ~ip (c:\\Python311\\Lib\\site-packages)\n",
            "WARNING: Ignoring invalid distribution ~~p (c:\\Python311\\Lib\\site-packages)\n",
            "WARNING: Ignoring invalid distribution ~ (c:\\Python311\\Lib\\site-packages)\n",
            "WARNING: Ignoring invalid distribution ~-p (c:\\Python311\\Lib\\site-packages)\n",
            "WARNING: Ignoring invalid distribution ~=p (c:\\Python311\\Lib\\site-packages)\n",
            "WARNING: Ignoring invalid distribution ~ip (c:\\Python311\\Lib\\site-packages)\n",
            "WARNING: Ignoring invalid distribution ~~p (c:\\Python311\\Lib\\site-packages)\n",
            "  WARNING: Failed to write executable - trying to use .deleteme logic\n",
            "ERROR: Could not install packages due to an OSError: [WinError 2] The system cannot find the file specified: 'c:\\\\Python311\\\\Scripts\\\\openai.exe' -> 'c:\\\\Python311\\\\Scripts\\\\openai.exe.deleteme'\n",
            "\n"
          ]
        }
      ],
      "source": [
        "pip install -qU langchain-openai"
      ]
    },
    {
      "cell_type": "code",
      "execution_count": 22,
      "metadata": {
        "id": "gu5SBks9D_0_"
      },
      "outputs": [
        {
          "name": "stdout",
          "output_type": "stream",
          "text": [
            "Requirement already satisfied: rouge-score in c:\\python311\\lib\\site-packages (0.1.2)\n",
            "Requirement already satisfied: nltk in c:\\python311\\lib\\site-packages (3.9.1)\n",
            "Requirement already satisfied: absl-py in c:\\python311\\lib\\site-packages (from rouge-score) (2.1.0)\n",
            "Requirement already satisfied: numpy in c:\\python311\\lib\\site-packages (from rouge-score) (1.26.4)\n",
            "Requirement already satisfied: six>=1.14.0 in c:\\python311\\lib\\site-packages (from rouge-score) (1.16.0)\n",
            "Requirement already satisfied: click in c:\\python311\\lib\\site-packages (from nltk) (8.1.8)\n",
            "Requirement already satisfied: joblib in c:\\python311\\lib\\site-packages (from nltk) (1.4.2)\n",
            "Requirement already satisfied: regex>=2021.8.3 in c:\\python311\\lib\\site-packages (from nltk) (2024.5.15)\n",
            "Requirement already satisfied: tqdm in c:\\python311\\lib\\site-packages (from nltk) (4.66.4)\n",
            "Requirement already satisfied: colorama in c:\\python311\\lib\\site-packages (from click->nltk) (0.4.6)\n"
          ]
        },
        {
          "name": "stderr",
          "output_type": "stream",
          "text": [
            "WARNING: Ignoring invalid distribution ~ (C:\\Python311\\Lib\\site-packages)\n",
            "WARNING: Ignoring invalid distribution ~-p (C:\\Python311\\Lib\\site-packages)\n",
            "WARNING: Ignoring invalid distribution ~=p (C:\\Python311\\Lib\\site-packages)\n",
            "WARNING: Ignoring invalid distribution ~ip (C:\\Python311\\Lib\\site-packages)\n",
            "WARNING: Ignoring invalid distribution ~~p (C:\\Python311\\Lib\\site-packages)\n",
            "WARNING: Ignoring invalid distribution ~ (C:\\Python311\\Lib\\site-packages)\n",
            "WARNING: Ignoring invalid distribution ~-p (C:\\Python311\\Lib\\site-packages)\n",
            "WARNING: Ignoring invalid distribution ~=p (C:\\Python311\\Lib\\site-packages)\n",
            "WARNING: Ignoring invalid distribution ~ip (C:\\Python311\\Lib\\site-packages)\n",
            "WARNING: Ignoring invalid distribution ~~p (C:\\Python311\\Lib\\site-packages)\n",
            "WARNING: Ignoring invalid distribution ~ (C:\\Python311\\Lib\\site-packages)\n",
            "WARNING: Ignoring invalid distribution ~-p (C:\\Python311\\Lib\\site-packages)\n",
            "WARNING: Ignoring invalid distribution ~=p (C:\\Python311\\Lib\\site-packages)\n",
            "WARNING: Ignoring invalid distribution ~ip (C:\\Python311\\Lib\\site-packages)\n",
            "WARNING: Ignoring invalid distribution ~~p (C:\\Python311\\Lib\\site-packages)\n"
          ]
        }
      ],
      "source": [
        "!pip install rouge-score nltk\n"
      ]
    },
    {
      "cell_type": "code",
      "execution_count": 6,
      "metadata": {
        "id": "Y7xLYgeJZ3v_"
      },
      "outputs": [
        {
          "ename": "ModuleNotFoundError",
          "evalue": "No module named 'pymongo'",
          "output_type": "error",
          "traceback": [
            "\u001b[1;31m---------------------------------------------------------------------------\u001b[0m",
            "\u001b[1;31mModuleNotFoundError\u001b[0m                       Traceback (most recent call last)",
            "Cell \u001b[1;32mIn[6], line 3\u001b[0m\n\u001b[0;32m      1\u001b[0m \u001b[38;5;28;01mimport\u001b[39;00m \u001b[38;5;21;01mgetpass\u001b[39;00m\n\u001b[0;32m      2\u001b[0m \u001b[38;5;28;01mimport\u001b[39;00m \u001b[38;5;21;01mos\u001b[39;00m\n\u001b[1;32m----> 3\u001b[0m \u001b[38;5;28;01mimport\u001b[39;00m \u001b[38;5;21;01mpymongo\u001b[39;00m\n\u001b[0;32m      4\u001b[0m \u001b[38;5;28;01mimport\u001b[39;00m \u001b[38;5;21;01mpprint\u001b[39;00m\n\u001b[0;32m      5\u001b[0m \u001b[38;5;28;01mimport\u001b[39;00m \u001b[38;5;21;01mpandas\u001b[39;00m \u001b[38;5;28;01mas\u001b[39;00m \u001b[38;5;21;01mpd\u001b[39;00m\n",
            "\u001b[1;31mModuleNotFoundError\u001b[0m: No module named 'pymongo'"
          ]
        }
      ],
      "source": [
        "import getpass\n",
        "import os\n",
        "import pymongo\n",
        "import pprint\n",
        "import pandas as pd\n",
        "from sklearn.metrics import f1_score\n",
        "from nltk.translate.bleu_score import sentence_bleu\n",
        "from rouge_score import rouge_scorer\n",
        "from nltk.translate.meteor_score import meteor_score\n",
        "import nltk\n",
        "from langchain_community.document_loaders import PyPDFLoader\n",
        "from langchain_core.output_parsers import StrOutputParser\n",
        "from langchain_core.runnables import RunnablePassthrough\n",
        "from langchain_mongodb import MongoDBAtlasVectorSearch\n",
        "from langchain_openai import ChatOpenAI, OpenAIEmbeddings\n",
        "from langchain.prompts import PromptTemplate\n",
        "from langchain.text_splitter import RecursiveCharacterTextSplitter\n",
        "from pymongo import MongoClient\n",
        "from langchain_community.document_loaders import DirectoryLoader"
      ]
    },
    {
      "cell_type": "code",
      "execution_count": null,
      "metadata": {
        "id": "C45YyH1fZ49K"
      },
      "outputs": [],
      "source": [
        "# Ensure NLTK resources are downloaded\n",
        "nltk.download('wordnet')\n",
        "nltk.download('omw-1.4')"
      ]
    },
    {
      "cell_type": "code",
      "execution_count": null,
      "metadata": {
        "colab": {
          "base_uri": "https://localhost:8080/"
        },
        "id": "4AR9Ni8A8CnL",
        "outputId": "75b0d1a2-fd8f-4fbc-8812-bbe8ba3bcd05"
      },
      "outputs": [
        {
          "name": "stdout",
          "output_type": "stream",
          "text": [
            "Enter API key for OpenAI: ··········\n"
          ]
        }
      ],
      "source": [
        "import getpass\n",
        "import os\n",
        "\n",
        "if not os.environ.get(\"OPENAI_API_KEY\"):\n",
        "  os.environ[\"OPENAI_API_KEY\"] = getpass.getpass(\"Enter API key for OpenAI: \")\n",
        "\n",
        "from langchain_openai import OpenAIEmbeddings\n",
        "\n",
        "embeddings = OpenAIEmbeddings(model=\"text-embedding-3-large\")"
      ]
    },
    {
      "cell_type": "code",
      "execution_count": null,
      "metadata": {
        "id": "JWUz8nkL8P8e"
      },
      "outputs": [],
      "source": [
        "pip install -qU langchain-mongodb"
      ]
    },
    {
      "cell_type": "code",
      "execution_count": null,
      "metadata": {
        "id": "o0sGk1P-BoLt"
      },
      "outputs": [],
      "source": [
        "!pip install pymongo pypdf"
      ]
    },
    {
      "cell_type": "code",
      "execution_count": null,
      "metadata": {
        "id": "uxHsPtl5BsmY"
      },
      "outputs": [],
      "source": []
    },
    {
      "cell_type": "code",
      "execution_count": null,
      "metadata": {
        "id": "ClhEIEXlZ0Qj"
      },
      "outputs": [],
      "source": []
    },
    {
      "cell_type": "code",
      "execution_count": null,
      "metadata": {
        "colab": {
          "base_uri": "https://localhost:8080/"
        },
        "id": "8oTN6ixZAluH",
        "outputId": "e633dbd9-d7df-4ecf-c4f0-1ab832948821"
      },
      "outputs": [
        {
          "name": "stdout",
          "output_type": "stream",
          "text": [
            "MongoDB Atlas Cluster URI:··········\n"
          ]
        }
      ],
      "source": [
        "import getpass\n",
        "\n",
        "MONGODB_ATLAS_CLUSTER_URI = getpass.getpass(\"MongoDB Atlas Cluster URI:\")"
      ]
    },
    {
      "cell_type": "code",
      "execution_count": null,
      "metadata": {
        "id": "Y8Cpm29yBNnn"
      },
      "outputs": [],
      "source": [
        "from pymongo import MongoClient\n",
        "from pymongo.operations import SearchIndexModel"
      ]
    },
    {
      "cell_type": "code",
      "execution_count": null,
      "metadata": {
        "id": "lP2Kp32eA8aq"
      },
      "outputs": [],
      "source": [
        "# mongodb Atlas cluster connection\n",
        "client = MongoClient(MONGODB_ATLAS_CLUSTER_URI)\n",
        "\n",
        "# mongodb collection and index name\n",
        "db_name = \"v1_copilot\"\n",
        "collection_name = \"v2\"\n",
        "atlas_collection = client[db_name][collection_name]\n",
        "vector_search_index = \"copilot_index\""
      ]
    },
    {
      "cell_type": "code",
      "execution_count": null,
      "metadata": {
        "id": "IpSvA73nS4qI"
      },
      "outputs": [],
      "source": [
        "!pip install unstructured"
      ]
    },
    {
      "cell_type": "code",
      "execution_count": null,
      "metadata": {
        "id": "GTAWmoXUBgk9"
      },
      "outputs": [],
      "source": [
        "# Load the PDF\n",
        "folder_path = \"/content/drive/MyDrive/downloaded_documents\"\n",
        "# Instead of using '../', use the actual folder path\n",
        "loader = DirectoryLoader(folder_path, glob=\"**/*.pdf\", show_progress=True , loader_cls = PyPDFLoader)\n",
        "# loader = PyPDFLoader(\"https://arxiv.org/pdf/2501.01478\")\n",
        "data = loader.load()\n",
        "\n",
        "# Split PDF into documents\n",
        "text_splitter = RecursiveCharacterTextSplitter(chunk_size=600, chunk_overlap=50)\n",
        "docs = text_splitter.split_documents(data)\n",
        "\n",
        "# Print the first document\n",
        "docs[0]"
      ]
    },
    {
      "cell_type": "code",
      "execution_count": null,
      "metadata": {
        "id": "gKzHKnIrB3cu"
      },
      "outputs": [],
      "source": [
        "# Create the vector store\n",
        "vector_store = MongoDBAtlasVectorSearch.from_documents(\n",
        "    documents = docs,\n",
        "    embedding = OpenAIEmbeddings(disallowed_special=()),\n",
        "    collection = atlas_collection,\n",
        "    index_name = vector_search_index\n",
        ")"
      ]
    },
    {
      "cell_type": "code",
      "execution_count": null,
      "metadata": {
        "id": "2nlxauFU8S5b"
      },
      "outputs": [],
      "source": [
        "# Use helper method to create the vector search index\n",
        "vector_store.create_vector_search_index(\n",
        "   dimensions = 1536,\n",
        "   filters = [ \"page\" ]\n",
        ")"
      ]
    },
    {
      "cell_type": "code",
      "execution_count": null,
      "metadata": {
        "collapsed": true,
        "id": "yGsaPZp5C3d-"
      },
      "outputs": [],
      "source": [
        "# Instantiate Atlas Vector Search as a retriever\n",
        "\n",
        "# #### expriment around retriever\n",
        "  #### setup RAG evals using RAGAS/custom\n",
        "  #### create test dataset\n",
        "# retriever = vector_store.as_retriever(\n",
        "#    search_type = \"similarity\",\n",
        "#    search_kwargs = { \"k\": 15 }\n",
        "# )\n",
        "retriever = MongoDBAtlasVectorSearch(\n",
        "    embedding=OpenAIEmbeddings(),\n",
        "    collection=atlas_collection,\n",
        "    index_name=vector_search_index,\n",
        "    relevance_score_fn=\"cosine\",\n",
        "    search_type = \"similarity\",\n",
        "    search_kwargs = { \"k\": 15 }\n",
        ").as_retriever()\n",
        "\n",
        "#prompt template\n",
        "template = \"\"\" You are a kind and helpful QnA assistant. Your job is to assist Faculty and students of BITS Pilani in resolving their doubts and queries.\n",
        "   {context}\n",
        "   Question: {question}\n",
        "\"\"\"\n",
        "prompt = PromptTemplate.from_template(template)\n",
        "model = ChatOpenAI(openai_api_key = \"\")\n",
        "\n",
        "# llm chain\n",
        "chain = (\n",
        "   { \"context\": retriever, \"question\": RunnablePassthrough()}\n",
        "   | prompt\n",
        "   | model\n",
        "   | StrOutputParser()\n",
        ")\n",
        "\n",
        "# Prompt the chain\n",
        "# question = \"\"\"What are the guidelines for availing casual leaves by a PhD student?\"\"\"\n",
        "# answer = chain.invoke(question)\n",
        "\n",
        "# print(\"Question: \" + question)\n",
        "# print(\"Answer: \" + answer)\n",
        "\n",
        "# # Return source documents\n",
        "# documents = retriever.invoke(question)\n",
        "# print(\"\\nSource documents:\")\n",
        "# pprint.pprint(documents)"
      ]
    },
    {
      "cell_type": "code",
      "execution_count": null,
      "metadata": {
        "id": "V9NyMzkTYHwA"
      },
      "outputs": [],
      "source": [
        "# Define evaluation functions\n",
        "def exact_match_score(pred, truth):\n",
        "    return int(pred.strip().lower() == truth.strip().lower())\n",
        "\n",
        "def f1_score_token(pred, truth):\n",
        "    pred_tokens = pred.strip().lower().split()\n",
        "    truth_tokens = truth.strip().lower().split()\n",
        "    common_tokens = set(pred_tokens) & set(truth_tokens)\n",
        "    if len(common_tokens) == 0:\n",
        "        return 0.0\n",
        "    precision = len(common_tokens) / len(pred_tokens)\n",
        "    recall = len(common_tokens) / len(truth_tokens)\n",
        "    f1 = 2 * (precision * recall) / (precision + recall)\n",
        "    return f1\n",
        "\n",
        "def bleu_score(pred, truth):\n",
        "    pred_tokens = pred.strip().lower().split()\n",
        "    truth_tokens = [truth.strip().lower().split()]\n",
        "    return sentence_bleu(truth_tokens, pred_tokens)\n",
        "\n",
        "def rouge_score(pred, truth):\n",
        "    scorer = rouge_scorer.RougeScorer(['rouge1', 'rouge2', 'rougeL'], use_stemmer=True)\n",
        "    scores = scorer.score(truth.strip().lower(), pred.strip().lower())\n",
        "    return scores['rougeL'].fmeasure\n",
        "\n",
        "def meteor_score_custom(pred, truth):\n",
        "    return meteor_score([truth.strip().lower().split()], pred.strip().lower().split())\n",
        "\n",
        "# Load the CSV file containing question-answer pairs\n",
        "csv_path = \"/content/drive/MyDrive/IR_test_dataset.csv\"  # Replace with your CSV file path\n",
        "df = pd.read_csv(csv_path)\n",
        "\n",
        "# Initialize a list to store results\n",
        "results = []\n",
        "\n",
        "# Iterate over each question-answer pair\n",
        "for index, row in df.iterrows():\n",
        "    question = row[\"Question\"]\n",
        "    ground_truth_answer = row[\"Answer\"]\n",
        "\n",
        "    # Generate answer using the RAG system\n",
        "    generated_answer = chain.invoke(question)\n",
        "\n",
        "    # Evaluate the generated answer\n",
        "    em = exact_match_score(generated_answer, ground_truth_answer)\n",
        "    f1 = f1_score_token(generated_answer, ground_truth_answer)\n",
        "    bleu = bleu_score(generated_answer, ground_truth_answer)\n",
        "    rouge = rouge_score(generated_answer, ground_truth_answer)\n",
        "    meteor = meteor_score_custom(generated_answer, ground_truth_answer)\n",
        "\n",
        "    # Store results\n",
        "    results.append({\n",
        "        \"question\": question,\n",
        "        \"ground_truth_answer\": ground_truth_answer,\n",
        "        \"generated_answer\": generated_answer,\n",
        "        \"exact_match\": em,\n",
        "        \"f1_score\": f1,\n",
        "        \"bleu_score\": bleu,\n",
        "        \"rouge_score\": rouge,\n",
        "        \"meteor_score\": meteor\n",
        "    })\n",
        "\n",
        "# Convert results to a DataFrame\n",
        "results_df = pd.DataFrame(results)\n",
        "\n",
        "# Save results  CSV\n",
        "results_df.to_csv(\"/content/drive/MyDrive/IR_Project/v2_index.csv\", index=False)\n",
        "\n",
        "# Printscores\n",
        "print(\"Average Scores:\")\n",
        "print(f\"Exact Match: {results_df['exact_match'].mean()}\")\n",
        "print(f\"F1 Score: {results_df['f1_score'].mean()}\")\n",
        "print(f\"BLEU Score: {results_df['bleu_score'].mean()}\")\n",
        "print(f\"ROUGE Score: {results_df['rouge_score'].mean()}\")\n",
        "print(f\"METEOR Score: {results_df['meteor_score'].mean()}\")"
      ]
    },
    {
      "cell_type": "code",
      "execution_count": null,
      "metadata": {
        "id": "5UKCdLpMYHtK"
      },
      "outputs": [],
      "source": []
    },
    {
      "cell_type": "code",
      "execution_count": null,
      "metadata": {
        "id": "kW2wsyeJYHqN"
      },
      "outputs": [],
      "source": []
    },
    {
      "cell_type": "code",
      "execution_count": null,
      "metadata": {
        "id": "AxGkkZNuYHnY"
      },
      "outputs": [],
      "source": []
    },
    {
      "cell_type": "code",
      "execution_count": null,
      "metadata": {
        "id": "XXV_Roh2Yxg6"
      },
      "outputs": [],
      "source": []
    }
  ],
  "metadata": {
    "colab": {
      "provenance": []
    },
    "kernelspec": {
      "display_name": "Python 3",
      "name": "python3"
    },
    "language_info": {
      "codemirror_mode": {
        "name": "ipython",
        "version": 3
      },
      "file_extension": ".py",
      "mimetype": "text/x-python",
      "name": "python",
      "nbconvert_exporter": "python",
      "pygments_lexer": "ipython3",
      "version": "3.11.4"
    }
  },
  "nbformat": 4,
  "nbformat_minor": 0
}
